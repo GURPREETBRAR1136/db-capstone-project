{
 "cells": [
  {
   "cell_type": "code",
   "execution_count": 1,
   "id": "6e1e3b04-c475-4232-9851-d391756dfe0e",
   "metadata": {},
   "outputs": [
    {
     "name": "stdout",
     "output_type": "stream",
     "text": [
      "Requirement already satisfied: mysql-connector-python in c:\\users\\gurpreet\\appdata\\local\\programs\\python\\python312\\lib\\site-packages (8.2.0)\n",
      "Requirement already satisfied: protobuf<=4.21.12,>=4.21.1 in c:\\users\\gurpreet\\appdata\\local\\programs\\python\\python312\\lib\\site-packages (from mysql-connector-python) (4.21.12)\n"
     ]
    },
    {
     "name": "stderr",
     "output_type": "stream",
     "text": [
      "\n",
      "[notice] A new release of pip is available: 23.2.1 -> 23.3.1\n",
      "[notice] To update, run: python.exe -m pip install --upgrade pip\n"
     ]
    }
   ],
   "source": [
    "!pip install mysql-connector-python\n"
   ]
  },
  {
   "cell_type": "code",
   "execution_count": 2,
   "id": "85ce5022-4b3a-42d7-97fd-415ba935aa11",
   "metadata": {},
   "outputs": [],
   "source": [
    "import mysql.connector as connector\n"
   ]
  },
  {
   "cell_type": "code",
   "execution_count": 3,
   "id": "1ad01236-e0de-4ff8-a4bc-a10964087a3b",
   "metadata": {},
   "outputs": [],
   "source": [
    "connection = connector.connect(host =\"127.0.0.1\",user = \"root\", password = \"Gurpreet@11\" ,db = \"little_lemon_project\")\n"
   ]
  },
  {
   "cell_type": "code",
   "execution_count": 4,
   "id": "5fe304d9-35fc-4315-ae09-34fd3ee9c5c2",
   "metadata": {},
   "outputs": [],
   "source": [
    "cursor= connection.cursor()"
   ]
  },
  {
   "cell_type": "code",
   "execution_count": 5,
   "id": "a219c450-6e38-412b-8777-870e83a41134",
   "metadata": {},
   "outputs": [],
   "source": [
    "show_tables = \"\"\"SHOW TABLES\"\"\"\n",
    "cursor.execute(show_tables)"
   ]
  },
  {
   "cell_type": "code",
   "execution_count": 6,
   "id": "8586d5f3-3ed3-4919-9464-cbf4da90b3fe",
   "metadata": {},
   "outputs": [
    {
     "name": "stdout",
     "output_type": "stream",
     "text": [
      "[('bookings',), ('customer',), ('deliverystatus',), ('menu',), ('menuitems',), ('orders',), ('orderview',), ('staff',)]\n"
     ]
    }
   ],
   "source": [
    "results= cursor.fetchall()\n",
    "print(results)"
   ]
  },
  {
   "cell_type": "code",
   "execution_count": 7,
   "id": "061274ac-26fe-4130-9ca7-871d566d852f",
   "metadata": {},
   "outputs": [
    {
     "name": "stdout",
     "output_type": "stream",
     "text": [
      "('CustomerID', 'FirstName', 'LastName', 'Address', 'ContactNo.')\n",
      "(1, 'Rohan', 'Ram', 'Barrie , ON', '4443211234')\n",
      "(2, 'Raju', 'Ram', 'Streatford , ON', '4213211111')\n",
      "(3, 'Akash', 'Singh', 'Brampton , ON', '5643213344')\n",
      "(4, 'Deepu', 'Sekhon', 'London,ON', '5654344422')\n",
      "(5, 'Garry', 'Guru', 'Windsor,ON', '4235643322')\n"
     ]
    }
   ],
   "source": [
    "customer =\"SELECT * FROM customer\"\n",
    "cursor.execute(customer)\n",
    "result =cursor.fetchall()\n",
    "column = cursor.column_names\n",
    "print(column)\n",
    "for r in result:\n",
    "    print(r)"
   ]
  },
  {
   "cell_type": "code",
   "execution_count": 8,
   "id": "f1ce5126-8ab7-4840-a453-eb7a6a613b57",
   "metadata": {},
   "outputs": [
    {
     "name": "stdout",
     "output_type": "stream",
     "text": [
      "('OrderID', 'TableNo.', 'MenuID', 'BookingID', 'Quantity', 'Total', 'CustomerID')\n",
      "(1, '2', 5, 3, 2, '150', 3)\n",
      "(2, '3', 4, 2, 3, '100', 5)\n",
      "(3, '5', 5, 4, 1, '40', 2)\n",
      "(4, '1', 3, 5, 2, '70', 1)\n"
     ]
    }
   ],
   "source": [
    "orders = \"SELECT * FROM orders\"\n",
    "cursor.execute(orders)\n",
    "results = cursor.fetchall()\n",
    "columns = cursor.column_names\n",
    "print(columns)\n",
    "for r in results:\n",
    "    print(r)\n",
    "    \n"
   ]
  },
  {
   "cell_type": "code",
   "execution_count": 20,
   "id": "aacc877e-b161-4051-b427-6d4a2cebb458",
   "metadata": {},
   "outputs": [
    {
     "name": "stdout",
     "output_type": "stream",
     "text": [
      "('CustomerID', 'FullName', 'ContactNo', 'Total')\n",
      "(3, 'Akash Singh', '5643213344', '150')\n",
      "(5, 'Garry Guru', '4235643322', '100')\n",
      "(1, 'Rohan Ram', '4443211234', '70')\n"
     ]
    }
   ],
   "source": [
    "order_greater_60 = \"\"\"SELECT customer.CustomerID, CONCAT(customer.FirstName ,' ', customer.LastName) AS FullName,customer.ContactNo , orders.Total  \n",
    "FROM customer INNER JOIN orders ON customer.CustomerID = orders.CustomerID WHERE orders.Total > 60 \"\"\"\n",
    "cursor.execute(order_greater_60)\n",
    "result = cursor.fetchall()\n",
    "column = cursor.column_names\n",
    "print(column)\n",
    "for r in result:\n",
    "    print(r)\n",
    "\n"
   ]
  },
  {
   "cell_type": "code",
   "execution_count": null,
   "id": "451bb984-f4cc-4c4c-921a-fb6a95bc7b57",
   "metadata": {},
   "outputs": [],
   "source": []
  }
 ],
 "metadata": {
  "kernelspec": {
   "display_name": "Python 3 (ipykernel)",
   "language": "python",
   "name": "python3"
  },
  "language_info": {
   "codemirror_mode": {
    "name": "ipython",
    "version": 3
   },
   "file_extension": ".py",
   "mimetype": "text/x-python",
   "name": "python",
   "nbconvert_exporter": "python",
   "pygments_lexer": "ipython3",
   "version": "3.12.0"
  }
 },
 "nbformat": 4,
 "nbformat_minor": 5
}
